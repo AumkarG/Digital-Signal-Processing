{
 "cells": [
  {
   "cell_type": "markdown",
   "metadata": {},
   "source": [
    "# Auto and Cross Correlation"
   ]
  },
  {
   "cell_type": "markdown",
   "metadata": {},
   "source": [
    "### Accepting signal Values"
   ]
  },
  {
   "cell_type": "code",
   "execution_count": 2,
   "metadata": {},
   "outputs": [
    {
     "name": "stdout",
     "output_type": "stream",
     "text": [
      "Enter signal one values, space separated1 2 3 4\n",
      "Enter signal two values, space separated5 2 6 7\n"
     ]
    }
   ],
   "source": [
    "x1=[float(i) for i in input(\"Enter signal one values, space separated\").split()]\n",
    "x2=[float(i) for i in input(\"Enter signal two values, space separated\").split()]\n",
    "s1=0\n",
    "s2=0\n",
    "l1=len(x1)\n",
    "l2=len(x2)\n",
    "l=l1+l2-1"
   ]
  },
  {
   "cell_type": "markdown",
   "metadata": {},
   "source": [
    "## Cross correlation"
   ]
  },
  {
   "cell_type": "markdown",
   "metadata": {},
   "source": [
    "### Generating matrix"
   ]
  },
  {
   "cell_type": "code",
   "execution_count": 3,
   "metadata": {},
   "outputs": [
    {
     "name": "stdout",
     "output_type": "stream",
     "text": [
      "[0, 0, 0, 1.0, 2.0, 3.0, 4.0, 0, 0, 0]\n",
      "[5.0, 2.0, 6.0, 7.0, 0, 0, 0, 0, 0, 0]\n",
      "[0, 5.0, 2.0, 6.0, 7.0, 0, 0, 0, 0, 0]\n",
      "[0, 0, 5.0, 2.0, 6.0, 7.0, 0, 0, 0, 0]\n",
      "[0, 0, 0, 5.0, 2.0, 6.0, 7.0, 0, 0, 0]\n",
      "[0, 0, 0, 0, 5.0, 2.0, 6.0, 7.0, 0, 0]\n",
      "[0, 0, 0, 0, 0, 5.0, 2.0, 6.0, 7.0, 0]\n",
      "[0, 0, 0, 0, 0, 0, 5.0, 2.0, 6.0, 7.0]\n"
     ]
    }
   ],
   "source": [
    "tab=[]\n",
    "\n",
    "matl=l1+l2*2-2\n",
    "row1=[0]*(l2-1)\n",
    "row1.extend(x1)\n",
    "row1.extend([0]*(l2-1))\n",
    "row2=[]\n",
    "row2.extend(x2)\n",
    "row2.extend([0]*(matl-l2))\n",
    "\n",
    "tab.append(row1)\n",
    "tab.append(row2)\n",
    "\n",
    "r=row2.copy()\n",
    "shift=row2\n",
    "\n",
    "for i in range(l-1):\n",
    "    r.pop(len(r)-1)\n",
    "    shift=[0]*(i+1)\n",
    "    shift.extend(r)\n",
    "    tab.append(shift)   \n",
    "\n",
    "for i in tab:\n",
    "    print(i)"
   ]
  },
  {
   "cell_type": "markdown",
   "metadata": {},
   "source": [
    "### Performing cross correlation"
   ]
  },
  {
   "cell_type": "code",
   "execution_count": 4,
   "metadata": {},
   "outputs": [
    {
     "name": "stdout",
     "output_type": "stream",
     "text": [
      "[7.0, 20.0, 35.0, 55.0, 40.0, 23.0, 20.0]\n"
     ]
    }
   ],
   "source": [
    "cc=[]\n",
    "for i in range(1,len(tab)):\n",
    "    y=0\n",
    "    for j in range(l):\n",
    "        y+=tab[0][j]*tab[i][j]\n",
    "    cc.append(y)\n",
    "print(cc)"
   ]
  },
  {
   "cell_type": "markdown",
   "metadata": {},
   "source": [
    "## Auto correlation"
   ]
  },
  {
   "cell_type": "code",
   "execution_count": 5,
   "metadata": {},
   "outputs": [],
   "source": [
    "def autocorr(x):\n",
    "    tab=[]\n",
    "    matl=l1+l1*2-2\n",
    "    row1=[0]*(l1-1)\n",
    "    row1.extend(x)\n",
    "    row1.extend([0]*(l1-1))\n",
    "    row2=[]\n",
    "    row2.extend(x)\n",
    "    row2.extend([0]*(matl-l1))\n",
    "    tab.append(row1)\n",
    "    tab.append(row2)\n",
    "    r=row2.copy()\n",
    "    shift=row2\n",
    "    for i in range(l-1):\n",
    "        r.pop(len(r)-1)\n",
    "        shift=[0]*(i+1)\n",
    "        shift.extend(r)\n",
    "        tab.append(shift)   \n",
    "    cc=[]\n",
    "    for i in range(1,len(tab)):\n",
    "        y=0\n",
    "        for j in range(l):\n",
    "            y+=tab[0][j]*tab[i][j]\n",
    "        cc.append(y)\n",
    "    print(cc)"
   ]
  },
  {
   "cell_type": "markdown",
   "metadata": {},
   "source": [
    "### Autocorrelation on signal 1"
   ]
  },
  {
   "cell_type": "code",
   "execution_count": 6,
   "metadata": {},
   "outputs": [
    {
     "name": "stdout",
     "output_type": "stream",
     "text": [
      "[0, 0, 0, 1.0, 2.0, 3.0, 4.0, 0, 0, 0]\n",
      "[1.0, 2.0, 3.0, 4.0, 0, 0, 0, 0, 0, 0]\n",
      "[0, 1.0, 2.0, 3.0, 4.0, 0, 0, 0, 0, 0]\n",
      "[0, 0, 1.0, 2.0, 3.0, 4.0, 0, 0, 0, 0]\n",
      "[0, 0, 0, 1.0, 2.0, 3.0, 4.0, 0, 0, 0]\n",
      "[0, 0, 0, 0, 1.0, 2.0, 3.0, 4.0, 0, 0]\n",
      "[0, 0, 0, 0, 0, 1.0, 2.0, 3.0, 4.0, 0]\n",
      "[0, 0, 0, 0, 0, 0, 1.0, 2.0, 3.0, 4.0]\n",
      "[4.0, 11.0, 20.0, 30.0, 20.0, 11.0, 4.0]\n"
     ]
    }
   ],
   "source": [
    "autocorr(x1)"
   ]
  },
  {
   "cell_type": "markdown",
   "metadata": {},
   "source": [
    "### Autocorrelation on signal 2"
   ]
  },
  {
   "cell_type": "code",
   "execution_count": 7,
   "metadata": {},
   "outputs": [
    {
     "name": "stdout",
     "output_type": "stream",
     "text": [
      "[0, 0, 0, 5.0, 2.0, 6.0, 7.0, 0, 0, 0]\n",
      "[5.0, 2.0, 6.0, 7.0, 0, 0, 0, 0, 0, 0]\n",
      "[0, 5.0, 2.0, 6.0, 7.0, 0, 0, 0, 0, 0]\n",
      "[0, 0, 5.0, 2.0, 6.0, 7.0, 0, 0, 0, 0]\n",
      "[0, 0, 0, 5.0, 2.0, 6.0, 7.0, 0, 0, 0]\n",
      "[0, 0, 0, 0, 5.0, 2.0, 6.0, 7.0, 0, 0]\n",
      "[0, 0, 0, 0, 0, 5.0, 2.0, 6.0, 7.0, 0]\n",
      "[0, 0, 0, 0, 0, 0, 5.0, 2.0, 6.0, 7.0]\n",
      "[35.0, 44.0, 64.0, 114.0, 64.0, 44.0, 35.0]\n"
     ]
    }
   ],
   "source": [
    "autocorr(x2)"
   ]
  }
 ],
 "metadata": {
  "kernelspec": {
   "display_name": "Python 3",
   "language": "python",
   "name": "python3"
  },
  "language_info": {
   "codemirror_mode": {
    "name": "ipython",
    "version": 3
   },
   "file_extension": ".py",
   "mimetype": "text/x-python",
   "name": "python",
   "nbconvert_exporter": "python",
   "pygments_lexer": "ipython3",
   "version": "3.7.3"
  }
 },
 "nbformat": 4,
 "nbformat_minor": 2
}
