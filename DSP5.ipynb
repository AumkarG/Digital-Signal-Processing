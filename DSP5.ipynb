{
 "cells": [
  {
   "cell_type": "markdown",
   "metadata": {},
   "source": [
    "# DFT"
   ]
  },
  {
   "cell_type": "markdown",
   "metadata": {},
   "source": [
    "##  Accept signal as input"
   ]
  },
  {
   "cell_type": "code",
   "execution_count": 153,
   "metadata": {},
   "outputs": [
    {
     "name": "stdout",
     "output_type": "stream",
     "text": [
      "Enter signal values, space separated 15 21 13 44\n"
     ]
    }
   ],
   "source": [
    "import math\n",
    "X=[float(i) for i in input(\"Enter signal values, space separated \").split()]\n",
    "s1=0\n",
    "N=len(X)\n",
    "K=N"
   ]
  },
  {
   "cell_type": "markdown",
   "metadata": {},
   "source": [
    "## Calculate DFT "
   ]
  },
  {
   "cell_type": "code",
   "execution_count": 154,
   "metadata": {},
   "outputs": [],
   "source": [
    "Y=[]\n",
    "for k in range(K):\n",
    "    app=[0,0]\n",
    "    for n in range(N):\n",
    "        theta=2*math.pi*n*k/N\n",
    "        app[0]+=X[n]*math.cos(theta)\n",
    "        app[1]-=X[n]*math.sin(theta)\n",
    "    Y.append(app)"
   ]
  },
  {
   "cell_type": "code",
   "execution_count": 155,
   "metadata": {},
   "outputs": [
    {
     "name": "stdout",
     "output_type": "stream",
     "text": [
      "93.0\n",
      "1.9999999999999938 + 23.0 j\n",
      "-37.0 + -1.5553014349171386e-14 j\n",
      "2.000000000000021 + -23.000000000000004 j\n"
     ]
    }
   ],
   "source": [
    "for i in Y:\n",
    "    if(i[1]!=0):\n",
    "        print(i[0],\"+\",i[1],\"j\")\n",
    "    else:\n",
    "        print(i[0])"
   ]
  },
  {
   "cell_type": "markdown",
   "metadata": {},
   "source": [
    "## Using function"
   ]
  },
  {
   "cell_type": "code",
   "execution_count": 156,
   "metadata": {},
   "outputs": [
    {
     "data": {
      "text/plain": [
       "array([ 93. +0.j,   2.+23.j, -37. +0.j,   2.-23.j])"
      ]
     },
     "execution_count": 156,
     "metadata": {},
     "output_type": "execute_result"
    }
   ],
   "source": [
    "from scipy.fftpack import fft,ifft\n",
    "fft(X)"
   ]
  },
  {
   "cell_type": "markdown",
   "metadata": {},
   "source": [
    "## Plot Graph"
   ]
  },
  {
   "cell_type": "code",
   "execution_count": 157,
   "metadata": {},
   "outputs": [
    {
     "name": "stdout",
     "output_type": "stream",
     "text": [
      "[0.0, 23.0, -1.5553014349171386e-14, -23.000000000000004]\n"
     ]
    },
    {
     "data": {
      "image/png": "[encoded data removed]",
      "text/plain": [
       "<Figure size 432x288 with 1 Axes>"
      ]
     },
     "metadata": {
      "needs_background": "light"
     },
     "output_type": "display_data"
    }
   ],
   "source": [
    "import matplotlib.pyplot as plt \n",
    "%matplotlib inline\n",
    "x=[]\n",
    "y=[]\n",
    "for i in range(len(Y)):\n",
    "    x.append(Y[i][0])\n",
    "    y.append(Y[i][1])\n",
    "print(y)\n",
    "fig=plt.figure()\n",
    "plt=fig.add_subplot(111)\n",
    "plt.set_title('DFT graph')\n",
    "plt.scatter(x, y)\n",
    "plt.spines['bottom'].set_position('center')\n",
    "plt.spines['top'].set_color('none')\n",
    "plt.spines['right'].set_color('none')"
   ]
  },
  {
   "cell_type": "markdown",
   "metadata": {},
   "source": [
    "# IDFT"
   ]
  },
  {
   "cell_type": "markdown",
   "metadata": {},
   "source": [
    "## Assign signal values"
   ]
  },
  {
   "cell_type": "code",
   "execution_count": 159,
   "metadata": {},
   "outputs": [],
   "source": [
    "X=[[93,0],[2,23],[-37,0],[2,-23]]\n",
    "Y=[]\n",
    "N=4\n",
    "K=4"
   ]
  },
  {
   "cell_type": "markdown",
   "metadata": {},
   "source": [
    "## Calculate IDFT"
   ]
  },
  {
   "cell_type": "code",
   "execution_count": 160,
   "metadata": {},
   "outputs": [],
   "source": [
    "for n in range(N):\n",
    "    app=[0,0]\n",
    "    for k in range(K):\n",
    "        theta=2*math.pi*k*n/N\n",
    "        app[0]+=X[k][0]*math.cos(theta)-X[k][1]*math.sin(theta)\n",
    "        app[1]+=X[k][0]*math.sin(theta)+X[k][1]*math.cos(theta)\n",
    "    app[0]/=N\n",
    "    app[1]/=N\n",
    "    if(app[1]<0.001):\n",
    "        app[1]=0.0\n",
    "    Y.append(app)\n",
    "        "
   ]
  },
  {
   "cell_type": "markdown",
   "metadata": {},
   "source": [
    "## Display result"
   ]
  },
  {
   "cell_type": "code",
   "execution_count": 161,
   "metadata": {},
   "outputs": [
    {
     "data": {
      "text/plain": [
       "[[15.0, 0.0], [21.0, 0.0], [13.000000000000002, 0.0], [44.0, 0.0]]"
      ]
     },
     "execution_count": 161,
     "metadata": {},
     "output_type": "execute_result"
    }
   ],
   "source": [
    "Y"
   ]
  },
  {
   "cell_type": "markdown",
   "metadata": {},
   "source": [
    "## Compare with function result"
   ]
  },
  {
   "cell_type": "code",
   "execution_count": 162,
   "metadata": {},
   "outputs": [
    {
     "data": {
      "text/plain": [
       "array([15.+0.j, 21.+0.j, 13.+0.j, 44.+0.j])"
      ]
     },
     "execution_count": 162,
     "metadata": {},
     "output_type": "execute_result"
    }
   ],
   "source": [
    "from scipy.fftpack import fft,ifft\n",
    "ifft([ 93. +0.j,   2.+23.j, -37. +0.j,   2.-23.j])"
   ]
  },
  {
   "cell_type": "markdown",
   "metadata": {},
   "source": [
    "## Plot graph"
   ]
  },
  {
   "cell_type": "code",
   "execution_count": 163,
   "metadata": {},
   "outputs": [
    {
     "data": {
      "image/png": "[encoded data removed]",
      "text/plain": [
       "<Figure size 432x288 with 1 Axes>"
      ]
     },
     "metadata": {
      "needs_background": "light"
     },
     "output_type": "display_data"
    }
   ],
   "source": [
    "import matplotlib.pyplot as plt \n",
    "%matplotlib inline\n",
    "x=[]\n",
    "y=[]\n",
    "for i in range(N):\n",
    "    x.append(i)\n",
    "for i in Y:\n",
    "    y.append(i[0])\n",
    "\n",
    "fig=plt.figure()\n",
    "plt.title('IDFT graph')\n",
    "plt.scatter(x, y)\n",
    "plt.show()\n"
   ]
  }
 ],
 "metadata": {
  "kernelspec": {
   "display_name": "Python 3",
   "language": "python",
   "name": "python3"
  },
  "language_info": {
   "codemirror_mode": {
    "name": "ipython",
    "version": 3
   },
   "file_extension": ".py",
   "mimetype": "text/x-python",
   "name": "python",
   "nbconvert_exporter": "python",
   "pygments_lexer": "ipython3",
   "version": "3.7.3"
  }
 },
 "nbformat": 4,
 "nbformat_minor": 2
}
